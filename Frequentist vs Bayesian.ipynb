{
 "cells": [
  {
   "cell_type": "code",
   "execution_count": 1,
   "id": "5c88dfda-fc02-46c9-847d-99db7841b730",
   "metadata": {},
   "outputs": [],
   "source": [
    "import numpy as np\n",
    "import scipy as sp"
   ]
  },
  {
   "cell_type": "code",
   "execution_count": 9,
   "id": "c7517b52-fd38-46e7-be51-ca27b3c7d18a",
   "metadata": {},
   "outputs": [],
   "source": [
    "n = 1000               # sample size\n",
    "p_pos_noHIV = 0.05     # probability person does not have HIV given a positive test result\n",
    "p_HIV_neg = 0          # probability person has HIV given a negative test result\n",
    "p_pos_HIV = 1          # probability the test result is positive given a person with HIV"
   ]
  },
  {
   "cell_type": "markdown",
   "id": "deedf515-e31e-452a-ad50-ed8b91c2d0e5",
   "metadata": {},
   "source": [
    "Exercise 1 - If someone gets a positive test, is it \"statistically significant\" at the p<0.05 level? Why?"
   ]
  },
  {
   "cell_type": "markdown",
   "id": "2e22f8e3-ae56-4cf2-8a9f-490c54722b22",
   "metadata": {},
   "source": [
    "in frequentist statistics, there is no probability assigned to a singular event, such as a person getting a positive test result. statistical significance can only be determined when considering the distribution of data."
   ]
  },
  {
   "cell_type": "markdown",
   "id": "00d0151d-091b-4523-90c4-8c0acb53a74a",
   "metadata": {},
   "source": [
    "Exercise 2 - What is the probability that if someone gets a positive test, that person is infected?"
   ]
  },
  {
   "cell_type": "code",
   "execution_count": 6,
   "id": "fb7ab583-f00d-4e34-b731-170a71f9386f",
   "metadata": {},
   "outputs": [
    {
     "name": "stdout",
     "output_type": "stream",
     "text": [
      "the probability of HIV given a positive test result is 0.9302325581395349\n"
     ]
    }
   ],
   "source": [
    "## if proportion of the population that is infected = 40%\n",
    "prevalence = 0.4       # proportion of population with HIV\n",
    "\n",
    "# p(HIV|pos) = p(pos|HIV) * p(HIV) / p(pos)\n",
    "# p(pos) = p(pos|HIV)*p(HIV) + p(pos|noHIV)*p(noHIV)\n",
    "p_pos = p_pos_HIV*prevalence + p_pos_noHIV*(1-prevalence)        # the probability of a positive test result\n",
    "\n",
    "p_HIV_pos = p_pos_HIV*prevalence/p_pos                           # the probability of HIV given a positive test result\n",
    "\n",
    "print(\"the probability of HIV given a positive test result is\", p_HIV_pos)"
   ]
  },
  {
   "cell_type": "code",
   "execution_count": 8,
   "id": "2549b900-e095-402f-8121-79fb433984c4",
   "metadata": {},
   "outputs": [
    {
     "name": "stdout",
     "output_type": "stream",
     "text": [
      "the probability of HIV given a positive test result is 0.28985507246376807\n"
     ]
    }
   ],
   "source": [
    "## if proportion of the population that is infected = 2%\n",
    "prevalence = 0.02         # proportion of population with HIV\n",
    "\n",
    "# p(HIV|pos) = p(pos|HIV) * p(HIV) / p(pos)\n",
    "# p(pos) = p(pos|HIV)*p(HIV) + p(pos|noHIV)*p(noHIV)\n",
    "p_pos = p_pos_HIV*prevalence + p_pos_noHIV*(1-prevalence)        # the probability of a positive test result\n",
    "\n",
    "p_HIV_pos = p_pos_HIV*prevalence/p_pos                           # the probability of HIV given a positive test result\n",
    "\n",
    "print(\"the probability of HIV given a positive test result is\", p_HIV_pos)"
   ]
  }
 ],
 "metadata": {
  "kernelspec": {
   "display_name": "Python 3 (ipykernel)",
   "language": "python",
   "name": "python3"
  },
  "language_info": {
   "codemirror_mode": {
    "name": "ipython",
    "version": 3
   },
   "file_extension": ".py",
   "mimetype": "text/x-python",
   "name": "python",
   "nbconvert_exporter": "python",
   "pygments_lexer": "ipython3",
   "version": "3.11.7"
  }
 },
 "nbformat": 4,
 "nbformat_minor": 5
}
