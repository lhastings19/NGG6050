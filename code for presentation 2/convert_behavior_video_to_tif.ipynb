{
 "cells": [
  {
   "cell_type": "code",
   "execution_count": 1,
   "id": "33ca0d35-e3a4-4432-9d08-ae5a39d78ea5",
   "metadata": {},
   "outputs": [],
   "source": [
    "import os\n",
    "import imageio\n",
    "import skimage.transform\n",
    "import numpy as np\n",
    "import tifffile\n",
    "from matplotlib import pyplot as plt\n",
    "from tqdm.notebook import trange, tqdm"
   ]
  },
  {
   "cell_type": "code",
   "execution_count": 2,
   "id": "f0b066ab-4e61-4532-949c-d77faae13539",
   "metadata": {},
   "outputs": [],
   "source": [
    "movie_file = '/vol/cortex/cd1/Data/lyndsay/Behavior/M136/20241016/M136-20241016-153545-side-camera.mp4'"
   ]
  },
  {
   "cell_type": "code",
   "execution_count": 6,
   "id": "5c7db88f-9c17-4e92-8d3e-33d0e43b07c9",
   "metadata": {},
   "outputs": [
    {
     "data": {
      "text/plain": [
       "{'plugin': 'ffmpeg',\n",
       " 'nframes': inf,\n",
       " 'ffmpeg_version': '4.2.2-static https://johnvansickle.com/ffmpeg/ built with gcc 8 (Debian 8.3.0-6)',\n",
       " 'codec': 'h264',\n",
       " 'pix_fmt': 'yuv420p',\n",
       " 'fps': 200.0,\n",
       " 'source_size': (544, 592),\n",
       " 'size': (544, 592),\n",
       " 'rotate': 0,\n",
       " 'duration': 1393.1}"
      ]
     },
     "execution_count": 6,
     "metadata": {},
     "output_type": "execute_result"
    }
   ],
   "source": [
    "vid = imageio.get_reader(movie_file, 'ffmpeg')\n",
    "vid.get_meta_data()"
   ]
  },
  {
   "cell_type": "code",
   "execution_count": 8,
   "id": "09cc6bcc-736e-46ff-857e-988e9aa5eb08",
   "metadata": {},
   "outputs": [
    {
     "data": {
      "application/vnd.jupyter.widget-view+json": {
       "model_id": "f7103b58e2b74bd4bb6cfb7a00ec2a6e",
       "version_major": 2,
       "version_minor": 0
      },
      "text/plain": [
       "  0%|          | 0/278420 [00:00<?, ?it/s]"
      ]
     },
     "metadata": {},
     "output_type": "display_data"
    }
   ],
   "source": [
    "# Load up frames\n",
    "vid = imageio.get_reader(movie_file, 'ffmpeg')\n",
    "\n",
    "frame_fraction = 0\n",
    "seconds_to_save = vid.get_meta_data()['duration'] - 1   # full video\n",
    "\n",
    "fps = vid.get_meta_data()['fps']\n",
    "length = fps*vid.get_meta_data()['duration']\n",
    "start_frame = int(frame_fraction * length)\n",
    "stack_to_save = []\n",
    "rng = np.arange(int(start_frame), int(start_frame + fps*seconds_to_save))\n",
    "for stk in tqdm(rng):\n",
    "    stack_to_save.append(vid.get_data(stk))"
   ]
  },
  {
   "cell_type": "code",
   "execution_count": 9,
   "id": "7bf7b719-7379-48fc-87f4-f10d2bd66870",
   "metadata": {},
   "outputs": [
    {
     "data": {
      "application/vnd.jupyter.widget-view+json": {
       "model_id": "09affb42fdc04906ac744c9b641ecec8",
       "version_major": 2,
       "version_minor": 0
      },
      "text/plain": [
       "  0%|          | 0/278420 [00:00<?, ?it/s]"
      ]
     },
     "metadata": {},
     "output_type": "display_data"
    },
    {
     "name": "stderr",
     "output_type": "stream",
     "text": [
      "/home/lyndsay/miniconda3/envs/analysis/lib/python3.12/site-packages/tifffile/tifffile.py:3535: UserWarning: <tifffile.TiffWriter 'M136-20241016-15…amera-chunk.tif'> truncating ImageJ file\n",
      "  warnings.warn(\n"
     ]
    }
   ],
   "source": [
    "# Save out frames\n",
    "with tifffile.TiffWriter(os.path.split(movie_file)[0] + os.path.sep + os.path.split(movie_file)[1][:-4] + '-chunk.tif', imagej=True) as tif:\n",
    "    for img in tqdm(stack_to_save):\n",
    "         tif.write(img, contiguous=True)"
   ]
  },
  {
   "cell_type": "code",
   "execution_count": null,
   "id": "d8bda45f-b3fe-4659-92f9-2d52c804d020",
   "metadata": {},
   "outputs": [],
   "source": []
  }
 ],
 "metadata": {
  "kernelspec": {
   "display_name": "Python 3 (ipykernel)",
   "language": "python",
   "name": "python3"
  },
  "language_info": {
   "codemirror_mode": {
    "name": "ipython",
    "version": 3
   },
   "file_extension": ".py",
   "mimetype": "text/x-python",
   "name": "python",
   "nbconvert_exporter": "python",
   "pygments_lexer": "ipython3",
   "version": "3.12.7"
  }
 },
 "nbformat": 4,
 "nbformat_minor": 5
}
