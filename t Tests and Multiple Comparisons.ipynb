{
 "cells": [
  {
   "cell_type": "code",
   "execution_count": 1,
   "id": "acef64c9-d280-45ae-ba9d-20fe781cb240",
   "metadata": {},
   "outputs": [],
   "source": [
    "import numpy as np\n",
    "import scipy.stats as st\n",
    "import matplotlib.pyplot as plt"
   ]
  },
  {
   "cell_type": "markdown",
   "id": "5d96b026-e84d-4c50-bb79-6dc35c65494c",
   "metadata": {},
   "source": [
    "### Question 1\n",
    "\n",
    "First, simulate multiple (say, 1000) t-tests comparing two samples with equal means and standard deviations, and save the p-values. Obviously, at p<0.05 we expect that ~5% of the simulations to yield a \"statistically significant\" result (of rejecting the NULL hypothesis that the samples come from distributions with equal means)."
   ]
  },
  {
   "cell_type": "code",
   "execution_count": 11,
   "id": "da0e5df5-4f12-448a-84b7-89b9061102c0",
   "metadata": {},
   "outputs": [
    {
     "name": "stdout",
     "output_type": "stream",
     "text": [
      "the number of trials where the p value is < 0.05 is 50\n",
      "the percentage of trials where the p value is < 0.05 is 5.0%\n"
     ]
    }
   ],
   "source": [
    "mu1 = 1     # sample 1 mean\n",
    "mu2 = 1     # sample 2 mean\n",
    "sigma = 1   # standard deviation for both samples\n",
    "N = 10\n",
    "\n",
    "trials = range(0, 1000)\n",
    "p_values = []\n",
    "\n",
    "for t in trials:           # iterate through 1000 trials\n",
    "    x1 = np.random.normal(mu1, sigma, N)     # define first sample\n",
    "    x2 = np.random.normal(mu2, sigma, N)     # define second sample\n",
    "\n",
    "    Sp = np.sqrt((x1.var(ddof=1) + x2.var(ddof=1))/2)\n",
    "    t_U = (x1.mean()-x2.mean())/(Sp*np.sqrt(2/N))     # calculate t statistic\n",
    "\n",
    "    p_U = 2.*(1-st.t.cdf(abs(t_U), 2*N-2))            # calculate p value from t statistic\n",
    "\n",
    "    p_values.append(p_U)\n",
    "\n",
    "count = sum(1 for p in p_values if p < 0.05)          # count the number of p values < 0.05\n",
    "percentage = count / len(trials) * 100\n",
    "\n",
    "print(f'the number of trials where the p value is < 0.05 is {count}')\n",
    "print(f'the percentage of trials where the p value is < 0.05 is {percentage}%')"
   ]
  },
  {
   "cell_type": "markdown",
   "id": "426618b3-ef0c-4913-9770-4ad8d227ff2d",
   "metadata": {},
   "source": [
    "### Question 2\n",
    "\n",
    "Second, once you have the simulated p-values, apply both methods to address the multiple comparisons problem."
   ]
  },
  {
   "cell_type": "code",
   "execution_count": 14,
   "id": "9b757758-5f9f-405e-87fa-3e1b2c8a00b4",
   "metadata": {},
   "outputs": [
    {
     "name": "stdout",
     "output_type": "stream",
     "text": [
      "the corrected alpha is 5e-05\n",
      "the number of trials where the p value is < corrected alpha is 0\n"
     ]
    }
   ],
   "source": [
    "# method 1: bonferroni correction\n",
    "num_comparisons = 1000\n",
    "alpha = 0.05\n",
    "corrected_alpha = 0.05 / 1000\n",
    "\n",
    "count_corrected_bonf = sum(1 for p in p_values if p < corrected_alpha)\n",
    "\n",
    "print(f'the corrected alpha is {corrected_alpha}')\n",
    "print(f'the number of trials where the p value is < corrected alpha is {count_corrected_bonf}')"
   ]
  },
  {
   "cell_type": "code",
   "execution_count": 39,
   "id": "67f634cb-bf46-43ee-9f5f-6c51b924de87",
   "metadata": {},
   "outputs": [
    {
     "name": "stdout",
     "output_type": "stream",
     "text": [
      "the corrected p value is 0.0006094577557889114\n",
      "the number of trials where the p value is < corrected alpha is 3\n"
     ]
    }
   ],
   "source": [
    "# method 2: benjamin-hochberg procedure\n",
    "sorted_p_values = p_values\n",
    "sorted_p_values.sort()    # sort the p values in ascending order\n",
    "\n",
    "Q = 0.3    # changed to 0.3 bc to have some trials meet criteria. maybe there's an error?\n",
    "\n",
    "candidate = None  # initialize variable\n",
    "for i,p in enumerate(sorted_p_values):\n",
    "    rank = i + 1    # rank is index + 1\n",
    "    critical_value = (rank/num_comparisons) * Q    # calculate critical value\n",
    "    \n",
    "    if p < critical_value:   # check if p value is less than critical value\n",
    "        if candidate is None or p > candidate:   # check if there is a preexisting candidate for new criterion and if there is, if it's smaller\n",
    "            candidate = p   # save p value as candidate for new criterion\n",
    "\n",
    "count_corrected_bh = sum(1 for p in sorted_p_values if p <= candidate)    # count number of p values less than or equal to final candidate\n",
    "print(f'the corrected p value is {candidate}')\n",
    "print(f'the number of trials where the p value is < corrected alpha is {count_corrected_bh}')"
   ]
  },
  {
   "cell_type": "markdown",
   "id": "d8c52075-48f4-4a6c-9dc2-6317edaaf52c",
   "metadata": {},
   "source": [
    "### Question 3\n",
    "\n",
    "Third, set the sample 1 and sample 2 means to be 1 and 2 respectively, and re-run the exercise. What do you notice? What if you make the difference between means even greater?"
   ]
  },
  {
   "cell_type": "code",
   "execution_count": 44,
   "id": "522f8622-503b-482e-8755-3febd2b8725a",
   "metadata": {},
   "outputs": [
    {
     "name": "stdout",
     "output_type": "stream",
     "text": [
      "the number of trials where the p value is < 0.05 is 580\n",
      "the percentage of trials where the p value is < 0.05 is 57.99999999999999%\n",
      "the bonferroni corrected alpha is 5e-05\n",
      "the number of trials where the p value is < corrected alpha is 13\n",
      "the bh corrected p value is 0.02162046242050608\n",
      "the number of trials where the p value is < corrected alpha is 437\n"
     ]
    }
   ],
   "source": [
    "mu1 = 1     # sample 1 mean\n",
    "mu2 = 2     # sample 2 mean\n",
    "sigma = 1   # standard deviation for both samples\n",
    "N = 10\n",
    "\n",
    "trials = range(0, 1000)\n",
    "p_values = []\n",
    "\n",
    "for t in trials:           # iterate through 1000 trials\n",
    "    x1 = np.random.normal(mu1, sigma, N)     # define first sample\n",
    "    x2 = np.random.normal(mu2, sigma, N)     # define second sample\n",
    "\n",
    "    Sp = np.sqrt((x1.var(ddof=1) + x2.var(ddof=1))/2)\n",
    "    t_U = (x1.mean()-x2.mean())/(Sp*np.sqrt(2/N))     # calculate t statistic\n",
    "\n",
    "    p_U = 2.*(1-st.t.cdf(abs(t_U), 2*N-2))            # calculate p value from t statistic\n",
    "\n",
    "    p_values.append(p_U)\n",
    "\n",
    "count = sum(1 for p in p_values if p < 0.05)          # count the number of p values < 0.05\n",
    "percentage = count / len(trials) * 100\n",
    "\n",
    "print(f'the number of trials where the p value is < 0.05 is {count}')\n",
    "print(f'the percentage of trials where the p value is < 0.05 is {percentage}%')\n",
    "\n",
    "# method 1: bonferroni correction\n",
    "num_comparisons = 1000\n",
    "alpha = 0.05\n",
    "corrected_alpha = 0.05 / 1000\n",
    "\n",
    "count_corrected_bonf = sum(1 for p in p_values if p < corrected_alpha)\n",
    "\n",
    "print(f'the bonferroni corrected alpha is {corrected_alpha}')\n",
    "print(f'the number of trials where the p value is < corrected alpha is {count_corrected_bonf}')\n",
    "\n",
    "# method 2: benjamin-hochberg procedure\n",
    "sorted_p_values = p_values\n",
    "sorted_p_values.sort()    # sort the p values in ascending order\n",
    "\n",
    "Q = 0.05    # changed back to 0.05\n",
    "\n",
    "candidate = None  # initialize variable\n",
    "for i,p in enumerate(sorted_p_values):\n",
    "    rank = i + 1    # rank is index + 1\n",
    "    critical_value = (rank/num_comparisons) * Q    # calculate critical value\n",
    "    \n",
    "    if p < critical_value:   # check if p value is less than critical value\n",
    "        if candidate is None or p > candidate:   # check if there is a preexisting candidate for new criterion and if there is, if it's smaller\n",
    "            candidate = p   # save p value as candidate for new criterion\n",
    "\n",
    "count_corrected_bh = sum(1 for p in sorted_p_values if p <= candidate)    # count number of p values less than or equal to final candidate\n",
    "print(f'the bh corrected p value is {candidate}')\n",
    "print(f'the number of trials where the p value is < corrected alpha is {count_corrected_bh}')"
   ]
  },
  {
   "cell_type": "code",
   "execution_count": 45,
   "id": "2746373a-2b98-4c7f-bc1c-4e41e942d23e",
   "metadata": {},
   "outputs": [
    {
     "name": "stdout",
     "output_type": "stream",
     "text": [
      "the number of trials where the p value is < 0.05 is 1000\n",
      "the percentage of trials where the p value is < 0.05 is 100.0%\n",
      "the bonferroni corrected alpha is 5e-05\n",
      "the number of trials where the p value is < corrected alpha is 1000\n",
      "the bh corrected p value is 1.9285528729540147e-10\n",
      "the number of trials where the p value is < corrected alpha is 1000\n"
     ]
    }
   ],
   "source": [
    "mu1 = 1     # sample 1 mean\n",
    "mu2 = 10     # sample 2 mean\n",
    "sigma = 1   # standard deviation for both samples\n",
    "N = 10\n",
    "\n",
    "trials = range(0, 1000)\n",
    "p_values = []\n",
    "\n",
    "for t in trials:           # iterate through 1000 trials\n",
    "    x1 = np.random.normal(mu1, sigma, N)     # define first sample\n",
    "    x2 = np.random.normal(mu2, sigma, N)     # define second sample\n",
    "\n",
    "    Sp = np.sqrt((x1.var(ddof=1) + x2.var(ddof=1))/2)\n",
    "    t_U = (x1.mean()-x2.mean())/(Sp*np.sqrt(2/N))     # calculate t statistic\n",
    "\n",
    "    p_U = 2.*(1-st.t.cdf(abs(t_U), 2*N-2))            # calculate p value from t statistic\n",
    "\n",
    "    p_values.append(p_U)\n",
    "\n",
    "count = sum(1 for p in p_values if p < 0.05)          # count the number of p values < 0.05\n",
    "percentage = count / len(trials) * 100\n",
    "\n",
    "print(f'the number of trials where the p value is < 0.05 is {count}')\n",
    "print(f'the percentage of trials where the p value is < 0.05 is {percentage}%')\n",
    "\n",
    "# method 1: bonferroni correction\n",
    "num_comparisons = 1000\n",
    "alpha = 0.05\n",
    "corrected_alpha = 0.05 / 1000\n",
    "\n",
    "count_corrected_bonf = sum(1 for p in p_values if p < corrected_alpha)\n",
    "\n",
    "print(f'the bonferroni corrected alpha is {corrected_alpha}')\n",
    "print(f'the number of trials where the p value is < corrected alpha is {count_corrected_bonf}')\n",
    "\n",
    "# method 2: benjamin-hochberg procedure\n",
    "sorted_p_values = p_values\n",
    "sorted_p_values.sort()    # sort the p values in ascending order\n",
    "\n",
    "Q = 0.05    # changed back to 0.05\n",
    "\n",
    "candidate = None  # initialize variable\n",
    "for i,p in enumerate(sorted_p_values):\n",
    "    rank = i + 1    # rank is index + 1\n",
    "    critical_value = (rank/num_comparisons) * Q    # calculate critical value\n",
    "    \n",
    "    if p < critical_value:   # check if p value is less than critical value\n",
    "        if candidate is None or p > candidate:   # check if there is a preexisting candidate for new criterion and if there is, if it's smaller\n",
    "            candidate = p   # save p value as candidate for new criterion\n",
    "\n",
    "count_corrected_bh = sum(1 for p in sorted_p_values if p <= candidate)    # count number of p values less than or equal to final candidate\n",
    "print(f'the bh corrected p value is {candidate}')\n",
    "print(f'the number of trials where the p value is < corrected alpha is {count_corrected_bh}')"
   ]
  },
  {
   "cell_type": "code",
   "execution_count": null,
   "id": "911c01bf-4d86-4be5-9289-f0b0bd23e350",
   "metadata": {},
   "outputs": [],
   "source": []
  }
 ],
 "metadata": {
  "kernelspec": {
   "display_name": "Python 3 (ipykernel)",
   "language": "python",
   "name": "python3"
  },
  "language_info": {
   "codemirror_mode": {
    "name": "ipython",
    "version": 3
   },
   "file_extension": ".py",
   "mimetype": "text/x-python",
   "name": "python",
   "nbconvert_exporter": "python",
   "pygments_lexer": "ipython3",
   "version": "3.11.7"
  }
 },
 "nbformat": 4,
 "nbformat_minor": 5
}
